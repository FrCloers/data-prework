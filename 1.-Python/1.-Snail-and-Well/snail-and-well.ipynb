{
 "cells": [
  {
   "cell_type": "markdown",
   "metadata": {},
   "source": [
    "<img src=\"https://bit.ly/2VnXWr2\" width=\"100\" align=\"left\">"
   ]
  },
  {
   "cell_type": "markdown",
   "metadata": {},
   "source": [
    "# The Snail and the Well\n",
    "\n",
    "A snail falls at the bottom of a 125 cm well. Each day the snail rises 30 cm. But at night, while sleeping, slides 20 cm because the walls are wet. How many days does it take for the snail to escape the well?\n",
    "\n",
    "**Hint**: The snail gets out of the well when it surpasses the 125cm of height.\n",
    "\n",
    "## Tools\n",
    "\n",
    "1. Loop: **while**\n",
    "2. Conditional statements: **if-else**\n",
    "3. Function: **print()**\n",
    "\n",
    "## Tasks\n",
    "\n",
    "#### 1. Assign the challenge data to variables with representative names: `well_height`, `daily_distance`, `nightly_distance` and `snail_position`."
   ]
  },
  {
   "cell_type": "code",
   "execution_count": 226,
   "metadata": {},
   "outputs": [
    {
     "name": "stdout",
     "output_type": "stream",
     "text": [
      "snail falls down in the well on day 0\n",
      "dailyPosition 30\n",
      "nightlyPosition 10\n",
      "snail hasnt arrived the well height yet 1\n",
      "dailyPosition 40\n",
      "nightlyPosition 20\n",
      "snail hasnt arrived the well height yet 2\n",
      "dailyPosition 50\n",
      "nightlyPosition 30\n",
      "snail hasnt arrived the well height yet 3\n",
      "dailyPosition 60\n",
      "nightlyPosition 40\n",
      "snail hasnt arrived the well height yet 4\n",
      "dailyPosition 70\n",
      "nightlyPosition 50\n",
      "snail hasnt arrived the well height yet 5\n",
      "dailyPosition 80\n",
      "nightlyPosition 60\n",
      "snail hasnt arrived the well height yet 6\n",
      "dailyPosition 90\n",
      "nightlyPosition 70\n",
      "snail hasnt arrived the well height yet 7\n",
      "dailyPosition 100\n",
      "nightlyPosition 80\n",
      "snail hasnt arrived the well height yet 8\n",
      "dailyPosition 110\n",
      "nightlyPosition 90\n",
      "snail hasnt arrived the well height yet 9\n",
      "dailyPosition 120\n",
      "nightlyPosition 100\n",
      "snail hasnt arrived the well height yet 10\n",
      "dailyPosition 130\n",
      "nightlyPosition 110\n",
      "snail hasnt arrived the well height yet 11\n",
      "dailyPosition 140\n",
      "nightlyPosition 120\n",
      "snail hasnt arrived the well height yet 12\n",
      "dailyPosition 150\n",
      "nightlyPosition 130\n",
      "snail arrived the well height after 12 days\n"
     ]
    }
   ],
   "source": [
    "daily_distance=30\n",
    "nightly_distance=-20\n",
    "well_height=125\n",
    "snail_position=0\n",
    "i=0\n",
    "\n",
    "print(\"snail falls down in the well on day\", i)\n",
    "snail_position+=daily_distance\n",
    "print(\"dailyPosition\",snail_position)\n",
    "snail_position+=nightly_distance\n",
    "print (\"nightlyPosition\",snail_position)\n",
    "\n",
    "\n",
    "while snail_position < well_height:\n",
    "    i=i+1\n",
    "    print(\"snail hasnt arrived the well height yet\",i)\n",
    "    snail_position+=daily_distance\n",
    "    print(\"dailyPosition\",snail_position)\n",
    "    snail_position+=nightly_distance\n",
    "    print (\"nightlyPosition\",snail_position)\n",
    "\n",
    "print(\"snail arrived the well height after\", i,\"days\")"
   ]
  },
  {
   "cell_type": "code",
   "execution_count": 224,
   "metadata": {},
   "outputs": [],
   "source": [
    "well_height=125\n",
    "daily_distance=30\n",
    "nightly_distance=-20\n",
    "snail_position=0\n",
    "days=0\n",
    "\n",
    "while snail_position<well_height:\n",
    "    days+=1\n",
    "    snail_position+=daily_distance\n",
    "    if snail_position<well_height:\n",
    "        snail_position+=nightly_distance"
   ]
  },
  {
   "cell_type": "code",
   "execution_count": 225,
   "metadata": {},
   "outputs": [
    {
     "name": "stdout",
     "output_type": "stream",
     "text": [
      "The snail will escape in 11 days.\n"
     ]
    }
   ],
   "source": [
    "\n",
    "print(\"The snail will escape in\", days, \"days.\")"
   ]
  },
  {
   "cell_type": "markdown",
   "metadata": {},
   "source": [
    "#### 2. Create a variable `days` to keep count of the days that pass until the snail escapes the well. "
   ]
  },
  {
   "cell_type": "code",
   "execution_count": 220,
   "metadata": {},
   "outputs": [
    {
     "name": "stdout",
     "output_type": "stream",
     "text": [
      "snail falls down in the well on day 1\n",
      "dailyPosition 30\n",
      "nightlyPosition 10\n",
      "snail hasnt arrived the well height yet 2\n",
      "dailyPosition 40\n",
      "nightlyPosition 20\n",
      "snail hasnt arrived the well height yet 3\n",
      "dailyPosition 50\n",
      "nightlyPosition 30\n",
      "snail hasnt arrived the well height yet 4\n",
      "dailyPosition 60\n",
      "nightlyPosition 40\n",
      "snail hasnt arrived the well height yet 5\n",
      "dailyPosition 70\n",
      "nightlyPosition 50\n",
      "snail hasnt arrived the well height yet 6\n",
      "dailyPosition 80\n",
      "nightlyPosition 60\n",
      "snail hasnt arrived the well height yet 7\n",
      "dailyPosition 90\n",
      "nightlyPosition 70\n",
      "snail hasnt arrived the well height yet 8\n",
      "dailyPosition 100\n",
      "nightlyPosition 80\n",
      "snail hasnt arrived the well height yet 9\n",
      "dailyPosition 110\n",
      "nightlyPosition 90\n",
      "snail hasnt arrived the well height yet 10\n",
      "dailyPosition 120\n",
      "nightlyPosition 100\n",
      "snail hasnt arrived the well height yet 11\n",
      "dailyPosition 130\n",
      "nightlyPosition 110\n",
      "snail hasnt arrived the well height yet 12\n",
      "dailyPosition 140\n",
      "nightlyPosition 120\n",
      "snail hasnt arrived the well height yet 13\n",
      "dailyPosition 150\n",
      "nightlyPosition 130\n",
      "snail arrived the well height after 13 days\n"
     ]
    }
   ],
   "source": [
    "daily_distance=30\n",
    "nightly_distance=-20\n",
    "well_height=125\n",
    "snail_position=0\n",
    "i=1\n",
    "\n",
    "print(\"snail falls down in the well on day\", i)\n",
    "snail_position+=daily_distance\n",
    "print(\"dailyPosition\",snail_position)\n",
    "snail_position+=nightly_distance\n",
    "print (\"nightlyPosition\",snail_position)\n",
    "\n",
    "\n",
    "while snail_position < well_height:\n",
    "    i=i+1\n",
    "    print(\"snail hasnt arrived the well height yet\",i)\n",
    "    snail_position+=daily_distance\n",
    "    print(\"dailyPosition\",snail_position)\n",
    "    snail_position+=nightly_distance\n",
    "    print (\"nightlyPosition\",snail_position)\n",
    "\n",
    "print(\"snail arrived the well height after\", i,\"days\")"
   ]
  },
  {
   "cell_type": "markdown",
   "metadata": {},
   "source": [
    "#### 3. Find the solution to the challenge using the variables defined above. "
   ]
  },
  {
   "cell_type": "code",
   "execution_count": 1,
   "metadata": {},
   "outputs": [
    {
     "name": "stdout",
     "output_type": "stream",
     "text": [
      "snail falls down in the well on day 1\n",
      "dailyPosition 30\n",
      "nightlyPosition 10\n",
      "snail hasnt arrived the well height yet 2\n",
      "dailyPosition 40\n",
      "nightlyPosition 20\n",
      "snail hasnt arrived the well height yet 3\n",
      "dailyPosition 50\n",
      "nightlyPosition 30\n",
      "snail hasnt arrived the well height yet 4\n",
      "dailyPosition 60\n",
      "nightlyPosition 40\n",
      "snail hasnt arrived the well height yet 5\n",
      "dailyPosition 70\n",
      "nightlyPosition 50\n",
      "snail hasnt arrived the well height yet 6\n",
      "dailyPosition 80\n",
      "nightlyPosition 60\n",
      "snail hasnt arrived the well height yet 7\n",
      "dailyPosition 90\n",
      "nightlyPosition 70\n",
      "snail hasnt arrived the well height yet 8\n",
      "dailyPosition 100\n",
      "nightlyPosition 80\n",
      "snail hasnt arrived the well height yet 9\n",
      "dailyPosition 110\n",
      "nightlyPosition 90\n",
      "snail hasnt arrived the well height yet 10\n",
      "dailyPosition 120\n",
      "nightlyPosition 100\n",
      "snail hasnt arrived the well height yet 11\n",
      "dailyPosition 130\n",
      "nightlyPosition 110\n",
      "snail hasnt arrived the well height yet 12\n",
      "dailyPosition 140\n",
      "nightlyPosition 120\n",
      "snail hasnt arrived the well height yet 13\n",
      "dailyPosition 150\n",
      "nightlyPosition 130\n",
      "snail arrived the well height after 13 days\n"
     ]
    }
   ],
   "source": [
    "daily_distance=30\n",
    "nightly_distance=-20\n",
    "well_height=125\n",
    "snail_position=0\n",
    "i=1\n",
    "\n",
    "print(\"snail falls down in the well on day\", i)\n",
    "snail_position+=daily_distance\n",
    "print(\"dailyPosition\",snail_position)\n",
    "snail_position+=nightly_distance\n",
    "print (\"nightlyPosition\",snail_position)\n",
    "\n",
    "\n",
    "while snail_position < well_height:\n",
    "    i=i+1\n",
    "    print(\"snail hasnt arrived the well height yet\",i)\n",
    "    snail_position+=daily_distance\n",
    "    print(\"dailyPosition\",snail_position)\n",
    "    snail_position+=nightly_distance\n",
    "    print (\"nightlyPosition\",snail_position)\n",
    "\n",
    "print(\"snail arrived the well height after\", i,\"days\")"
   ]
  },
  {
   "cell_type": "markdown",
   "metadata": {},
   "source": [
    "#### 4. Print the solution."
   ]
  },
  {
   "cell_type": "code",
   "execution_count": null,
   "metadata": {},
   "outputs": [],
   "source": [
    "daily_distance=30\n",
    "nightly_distance=-20\n",
    "well_height=125\n",
    "snail_position=0\n",
    "i=1\n",
    "\n",
    "print(\"snail falls down in the well on day\", i)\n",
    "snail_position+=daily_distance\n",
    "print(\"dailyPosition\",snail_position)\n",
    "snail_position+=nightly_distance\n",
    "print (\"nightlyPosition\",snail_position)\n",
    "\n",
    "\n",
    "while snail_position < well_height:\n",
    "    i=i+1\n",
    "    print(\"snail hasnt arrived the well height yet\",i)\n",
    "    snail_position+=daily_distance\n",
    "    print(\"dailyPosition\",snail_position)\n",
    "    snail_position+=nightly_distance\n",
    "    print (\"nightlyPosition\",snail_position)\n",
    "\n",
    "print(\"snail arrived the well height after\", i,\"days\")"
   ]
  },
  {
   "cell_type": "markdown",
   "metadata": {},
   "source": [
    "## Bonus\n",
    "The distance traveled by the snail each day is now defined by a list.\n",
    "```\n",
    "advance_cm = [30, 21, 33, 77, 44, 45, 23, 45, 12, 34, 55]\n",
    "```\n",
    "On the first day, the snail rises 30cm but during the night it slides 20cm. On the second day, the snail rises 21cm but during the night it slides 20cm, and so on. \n",
    "\n",
    "#### 1. How many days does it take for the snail to escape the well?\n",
    "Follow the same guidelines as in the previous challenge.\n",
    "\n",
    "**Hint**: Remember that the snail gets out of the well when it surpasses the 125cm of height."
   ]
  },
  {
   "cell_type": "code",
   "execution_count": 118,
   "metadata": {},
   "outputs": [
    {
     "name": "stdout",
     "output_type": "stream",
     "text": [
      "snail falls down in the well on day 0\n",
      "dailyPosition 30\n",
      "nightlyPosition 10\n",
      "snail hasnt arrived the well height yet 1\n",
      "dailyPosition 31\n",
      "nightlyPosition 11\n",
      "snail hasnt arrived the well height yet 2\n",
      "dailyPosition 44\n",
      "nightlyPosition 24\n",
      "snail hasnt arrived the well height yet 3\n",
      "dailyPosition 101\n",
      "nightlyPosition 81\n",
      "snail hasnt arrived the well height yet 4\n",
      "dailyPosition 125\n",
      "nightlyPosition 105\n",
      "snail hasnt arrived the well height yet 5\n",
      "dailyPosition 150\n",
      "nightlyPosition 130\n",
      "snail arrived the well height after 5 days\n"
     ]
    }
   ],
   "source": [
    "advance_cm= [30,21,33,77,44,45,23,45,12,34,55]\n",
    "daily_distance=30\n",
    "nightly_distance=-20\n",
    "well_height=125\n",
    "snail_position=0\n",
    "i=0\n",
    "\n",
    "print(\"snail falls down in the well on day\", i)\n",
    "snail_position+=advance_cm[i]\n",
    "print(\"dailyPosition\",snail_position)\n",
    "snail_position+=nightly_distance\n",
    "print (\"nightlyPosition\",snail_position)\n",
    "\n",
    "while snail_position<well_height:\n",
    "    i=i+1\n",
    "    print(\"snail hasnt arrived the well height yet\",i)\n",
    "    snail_position+=advance_cm[i]\n",
    "    print(\"dailyPosition\",snail_position)\n",
    "    snail_position+=nightly_distance\n",
    "    print (\"nightlyPosition\",snail_position)\n",
    "    \n",
    "print(\"snail arrived the well height after\", i,\"days\")    "
   ]
  },
  {
   "cell_type": "markdown",
   "metadata": {},
   "source": [
    "# 2. What is its maximum displacement in one day? And its minimum? Calculate the displacement using only the travel distance of the days used to get out of the well. \n",
    "**Hint**: Remember that displacement means the total distance risen taking into account that the snail slides at night.  "
   ]
  },
  {
   "cell_type": "code",
   "execution_count": 229,
   "metadata": {},
   "outputs": [
    {
     "name": "stdout",
     "output_type": "stream",
     "text": [
      "The snail will escape in 6 days.\n"
     ]
    }
   ],
   "source": [
    "well_height=125\n",
    "advance_cm=[30,21,33,77,44,45,23,45,12,34,55]\n",
    "nightly_distance=-20\n",
    "snail_position=0\n",
    "days=0\n",
    "\n",
    "while snail_position<=well_height:\n",
    "    snail_position+=advance_cm[days]\n",
    "    if snail_position<=well_height:\n",
    "        snail_position+=nightly_distance\n",
    "    days+=1\n",
    "\n",
    "print(\"The snail will escape in\", days, \"days.\")"
   ]
  },
  {
   "cell_type": "code",
   "execution_count": 230,
   "metadata": {},
   "outputs": [
    {
     "name": "stdout",
     "output_type": "stream",
     "text": [
      "The maximum displacement in a day is 57 cm.\n",
      "The minimum displacement in a day is 1 cm.\n"
     ]
    }
   ],
   "source": [
    "\n",
    "max_displacement=(max(advance_cm[:days])+nightly_distance)\n",
    "min_displacement=(min(advance_cm[:days])+nightly_distance)\n",
    "\n",
    "print(\"The maximum displacement in a day is\", max_displacement, \"cm.\")\n",
    "print(\"The minimum displacement in a day is\", min_displacement, \"cm.\")"
   ]
  },
  {
   "cell_type": "markdown",
   "metadata": {},
   "source": [
    "#### 3. What is its average progress? Take into account the snail slides at night."
   ]
  },
  {
   "cell_type": "code",
   "execution_count": 231,
   "metadata": {},
   "outputs": [
    {
     "name": "stdout",
     "output_type": "stream",
     "text": [
      "The average progress is 25.0 cm.\n"
     ]
    }
   ],
   "source": [
    "average_progress=snail_position/days\n",
    "print(\"The average progress is\", average_progress, \"cm.\")"
   ]
  },
  {
   "cell_type": "markdown",
   "metadata": {},
   "source": [
    "#### 4. What is the standard deviation of its displacement? Take into account the snail slides at night."
   ]
  },
  {
   "cell_type": "code",
   "execution_count": 232,
   "metadata": {},
   "outputs": [
    {
     "name": "stdout",
     "output_type": "stream",
     "text": [
      "The standard deviation of its displacement is 26.720778431774775\n"
     ]
    }
   ],
   "source": [
    "variance=sum((n-average_progress)**2 for n in advance_cm[: days]) / (days - 1)\n",
    "std = variance ** 0.5      \n",
    "print(\"The standard deviation of its displacement is\", std)"
   ]
  }
 ],
 "metadata": {
  "kernelspec": {
   "display_name": "Python 3",
   "language": "python",
   "name": "python3"
  },
  "language_info": {
   "codemirror_mode": {
    "name": "ipython",
    "version": 3
   },
   "file_extension": ".py",
   "mimetype": "text/x-python",
   "name": "python",
   "nbconvert_exporter": "python",
   "pygments_lexer": "ipython3",
   "version": "3.7.6"
  }
 },
 "nbformat": 4,
 "nbformat_minor": 2
}
